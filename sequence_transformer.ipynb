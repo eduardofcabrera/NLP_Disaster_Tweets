{
 "cells": [
  {
   "cell_type": "code",
   "execution_count": 4,
   "metadata": {},
   "outputs": [],
   "source": [
    "import numpy as np \n",
    "import pandas as pd\n",
    "from sentence_transformers import SentenceTransformer "
   ]
  },
  {
   "cell_type": "code",
   "execution_count": 11,
   "metadata": {},
   "outputs": [
    {
     "name": "stderr",
     "output_type": "stream",
     "text": [
      "Downloading: 100%|██████████| 1.18k/1.18k [00:00<00:00, 3.55MB/s]\n",
      "Downloading: 100%|██████████| 190/190 [00:00<00:00, 573kB/s]\n",
      "Downloading: 100%|██████████| 10.6k/10.6k [00:00<00:00, 12.2MB/s]\n",
      "Downloading: 100%|██████████| 571/571 [00:00<00:00, 2.77MB/s]\n",
      "Downloading: 100%|██████████| 116/116 [00:00<00:00, 706kB/s]\n",
      "Downloading: 100%|██████████| 39.3k/39.3k [00:00<00:00, 25.7MB/s]\n",
      "Downloading: 100%|██████████| 438M/438M [00:35<00:00, 12.2MB/s] \n",
      "Downloading: 100%|██████████| 53.0/53.0 [00:00<00:00, 197kB/s]\n",
      "Downloading: 100%|██████████| 239/239 [00:00<00:00, 1.33MB/s]\n",
      "Downloading: 100%|██████████| 466k/466k [00:00<00:00, 2.52MB/s]\n",
      "Downloading: 100%|██████████| 363/363 [00:00<00:00, 1.75MB/s]\n",
      "Downloading: 100%|██████████| 13.1k/13.1k [00:00<00:00, 19.1MB/s]\n",
      "Downloading: 100%|██████████| 232k/232k [00:00<00:00, 7.06MB/s]\n",
      "Downloading: 100%|██████████| 349/349 [00:00<00:00, 1.36MB/s]\n"
     ]
    }
   ],
   "source": [
    "model = SentenceTransformer('all-mpnet-base-v2')"
   ]
  },
  {
   "cell_type": "code",
   "execution_count": 12,
   "metadata": {},
   "outputs": [],
   "source": [
    "train_csv = pd.read_csv(\"nlp-getting-started/train_correct.csv\")\n",
    "test_csv = pd.read_csv(\"nlp-getting-started/test.csv\")"
   ]
  },
  {
   "cell_type": "code",
   "execution_count": 13,
   "metadata": {},
   "outputs": [],
   "source": [
    "sentences = train_csv['text'].tolist()\n",
    "test_sentences = test_csv[\"text\"].tolist()"
   ]
  },
  {
   "cell_type": "code",
   "execution_count": 14,
   "metadata": {},
   "outputs": [],
   "source": [
    "encoded_sentences = model.encode(sentences)\n",
    "test_encoded_sentences = model.encode(test_sentences)"
   ]
  },
  {
   "cell_type": "code",
   "execution_count": 15,
   "metadata": {},
   "outputs": [],
   "source": [
    "target = np.array(train_csv[\"target\"])"
   ]
  },
  {
   "cell_type": "code",
   "execution_count": 16,
   "metadata": {},
   "outputs": [],
   "source": [
    "new_train_dataset = pd.DataFrame(np.concatenate([encoded_sentences, target.reshape(-1, 1)], axis=-1))\n",
    "new_test_dataset = pd.DataFrame(test_encoded_sentences)"
   ]
  },
  {
   "cell_type": "code",
   "execution_count": 17,
   "metadata": {},
   "outputs": [
    {
     "ename": "",
     "evalue": "",
     "output_type": "error",
     "traceback": [
      "\u001b[1;31mThe Kernel crashed while executing code in the the current cell or a previous cell. Please review the code in the cell(s) to identify a possible cause of the failure. Click <a href='https://aka.ms/vscodeJupyterKernelCrash'>here</a> for more info. View Jupyter <a href='command:jupyter.viewOutput'>log</a> for further details."
     ]
    }
   ],
   "source": [
    "new_train_dataset.to_csv(\"nlp-getting-started/encoded_train_large.csv\", index=False)\n",
    "new_test_dataset.to_csv(\"nlp-getting-started/encoded_test_large.csv\", index=False)"
   ]
  },
  {
   "cell_type": "code",
   "execution_count": null,
   "metadata": {},
   "outputs": [],
   "source": []
  }
 ],
 "metadata": {
  "kernelspec": {
   "display_name": "Python 3",
   "language": "python",
   "name": "python3"
  },
  "language_info": {
   "codemirror_mode": {
    "name": "ipython",
    "version": 3
   },
   "file_extension": ".py",
   "mimetype": "text/x-python",
   "name": "python",
   "nbconvert_exporter": "python",
   "pygments_lexer": "ipython3",
   "version": "3.10.13"
  },
  "orig_nbformat": 4
 },
 "nbformat": 4,
 "nbformat_minor": 2
}
